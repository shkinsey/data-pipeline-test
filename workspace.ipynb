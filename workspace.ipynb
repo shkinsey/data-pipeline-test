{
 "cells": [
  {
   "cell_type": "code",
   "execution_count": 1,
   "id": "bc4be025",
   "metadata": {},
   "outputs": [],
   "source": [
    "import pandas as pd\n",
    "import numpy as np\n",
    "import re"
   ]
  },
  {
   "cell_type": "code",
   "execution_count": 2,
   "id": "4ed996ec",
   "metadata": {},
   "outputs": [
    {
     "data": {
      "application/vnd.microsoft.datawrangler.viewer.v0+json": {
       "columns": [
        {
         "name": "index",
         "rawType": "int64",
         "type": "integer"
        },
        {
         "name": "org_id",
         "rawType": "object",
         "type": "string"
        },
        {
         "name": "user_id",
         "rawType": "object",
         "type": "string"
        },
        {
         "name": "credit_type",
         "rawType": "object",
         "type": "string"
        },
        {
         "name": "action",
         "rawType": "object",
         "type": "unknown"
        },
        {
         "name": "credits",
         "rawType": "float64",
         "type": "float"
        },
        {
         "name": "timestamp",
         "rawType": "datetime64[ns]",
         "type": "datetime"
        }
       ],
       "ref": "b5e09954-db74-4a9a-b702-fb45f7249b3a",
       "rows": [
        [
         "121",
         "org_000",
         "user_001",
         "report_download",
         "deduct",
         "58.0",
         "2024-10-03 00:00:00"
        ],
        [
         "141",
         "org_000",
         "user_001",
         "data_export",
         "add",
         "10.0",
         "2024-10-08 12:00:00"
        ],
        [
         "341",
         "org_000",
         "user_001",
         "data_export",
         "add",
         "17.0",
         "2024-10-13 00:00:00"
        ],
        [
         "181",
         "org_000",
         "user_001",
         "api_call",
         "deduct",
         "62.0",
         "2024-10-14 12:00:00"
        ],
        [
         "221",
         "org_000",
         "user_001",
         "report_download",
         "deduct",
         "86.0",
         "2024-10-16 00:00:00"
        ],
        [
         "61",
         "org_000",
         "user_001",
         "data_export",
         "add",
         "56.0",
         "2024-10-17 00:00:00"
        ],
        [
         "361",
         "org_000",
         "user_001",
         "data_export",
         "deduct",
         "99.0",
         "2024-10-19 00:00:00"
        ],
        [
         "401",
         "org_000",
         "user_001",
         "data_export",
         "add",
         "31.0",
         "2024-10-27 00:00:00"
        ],
        [
         "321",
         "org_000",
         "user_001",
         "report_download",
         "deduct",
         "11.0",
         "2024-11-02 12:00:00"
        ],
        [
         "281",
         "org_000",
         "user_001",
         "data_export",
         "add",
         "100.0",
         "2024-11-06 12:00:00"
        ],
        [
         "381",
         "org_000",
         "user_001",
         "api_call",
         "add",
         "60.0",
         "2024-11-09 12:00:00"
        ],
        [
         "421",
         "org_000",
         "user_001",
         "data_export",
         "add",
         "48.0",
         "2024-11-10 00:00:00"
        ],
        [
         "441",
         "org_000",
         "user_001",
         "report_download",
         "add",
         "23.0",
         "2024-11-10 00:00:00"
        ],
        [
         "241",
         "org_000",
         "user_001",
         "api_call",
         "deduct",
         "89.0",
         "2024-11-16 00:00:00"
        ],
        [
         "101",
         "org_000",
         "user_001",
         "api_call",
         "add",
         "34.0",
         "2024-11-18 00:00:00"
        ],
        [
         "201",
         "org_000",
         "user_001",
         "report_download",
         "deduct",
         "8.0",
         "2024-11-20 00:00:00"
        ],
        [
         "1",
         "org_000",
         "user_001",
         "report_download",
         "add",
         "76.0",
         "2024-11-24 00:00:00"
        ],
        [
         "301",
         "org_000",
         "user_001",
         "api_call",
         "deduct",
         "79.0",
         "2024-11-25 00:00:00"
        ],
        [
         "41",
         "org_000",
         "user_001",
         "api_call",
         "add",
         "53.0",
         "2024-12-02 00:00:00"
        ],
        [
         "261",
         "org_000",
         "user_001",
         "data_export",
         "add",
         "77.0",
         "2024-12-30 00:00:00"
        ],
        [
         "21",
         "org_000",
         "user_001",
         "report_download",
         "add",
         "88.0",
         "1990-01-01 00:00:00"
        ],
        [
         "81",
         "org_000",
         "user_001",
         "report_download",
         "deduct",
         "12.0",
         "1990-01-01 00:00:00"
        ],
        [
         "161",
         "org_000",
         "user_001",
         "data_export",
         "add",
         "37.0",
         "1990-01-01 00:00:00"
        ],
        [
         "461",
         "org_000",
         "user_001",
         "data_export",
         "add",
         "39.0",
         "1990-01-01 00:00:00"
        ],
        [
         "481",
         "org_000",
         "user_001",
         "report_download",
         "deduct",
         "51.0",
         "1990-01-01 00:00:00"
        ],
        [
         "830",
         "org_000",
         "user_010",
         "report_download",
         "deduct",
         "57.0",
         "2024-10-02 12:00:00"
        ],
        [
         "530",
         "org_000",
         "user_010",
         "api_call",
         "deduct",
         "1.0",
         "2024-10-11 12:00:00"
        ],
        [
         "150",
         "org_000",
         "user_010",
         "report_download",
         "add",
         "59.0",
         "2024-10-12 00:00:00"
        ],
        [
         "990",
         "org_000",
         "user_010",
         "report_download",
         "add",
         "67.0",
         "2024-10-14 00:00:00"
        ],
        [
         "330",
         "org_000",
         "user_010",
         "data_export",
         "deduct",
         "52.0",
         "2024-10-17 00:00:00"
        ],
        [
         "870",
         "org_000",
         "user_010",
         "data_export",
         "deduct",
         "81.0",
         "2024-10-19 12:00:00"
        ],
        [
         "230",
         "org_000",
         "user_010",
         "report_download",
         "add",
         "7.0",
         "2024-10-20 12:00:00"
        ],
        [
         "550",
         "org_000",
         "user_010",
         "report_download",
         "add",
         "48.0",
         "2024-10-21 00:00:00"
        ],
        [
         "790",
         "org_000",
         "user_010",
         "report_download",
         "add",
         "58.0",
         "2024-10-21 12:00:00"
        ],
        [
         "710",
         "org_000",
         "user_010",
         "api_call",
         "deduct",
         "64.0",
         "2024-10-22 00:00:00"
        ],
        [
         "490",
         "org_000",
         "user_010",
         "report_download",
         "deduct",
         "55.0",
         "2024-10-24 00:00:00"
        ],
        [
         "890",
         "org_000",
         "user_010",
         "report_download",
         "deduct",
         "49.0",
         "2024-10-29 00:00:00"
        ],
        [
         "90",
         "org_000",
         "user_010",
         "report_download",
         "deduct",
         "81.0",
         "2024-10-31 00:00:00"
        ],
        [
         "630",
         "org_000",
         "user_010",
         "api_call",
         "add",
         "77.0",
         "2024-11-03 00:00:00"
        ],
        [
         "670",
         "org_000",
         "user_010",
         "api_call",
         "add",
         "26.0",
         "2024-11-13 00:00:00"
        ],
        [
         "970",
         "org_000",
         "user_010",
         "api_call",
         "deduct",
         "88.0",
         "2024-11-15 00:00:00"
        ],
        [
         "10",
         "org_000",
         "user_010",
         "data_export",
         "add",
         "48.0",
         "2024-11-15 12:00:00"
        ],
        [
         "450",
         "org_000",
         "user_010",
         "report_download",
         "add",
         "95.0",
         "2024-11-19 00:00:00"
        ],
        [
         "950",
         "org_000",
         "user_010",
         "data_export",
         "add",
         "71.0",
         "2024-11-21 00:00:00"
        ],
        [
         "390",
         "org_000",
         "user_010",
         "data_export",
         "add",
         "66.0",
         "2024-11-23 00:00:00"
        ],
        [
         "370",
         "org_000",
         "user_010",
         "report_download",
         "add",
         "23.0",
         "2024-11-23 12:00:00"
        ],
        [
         "190",
         "org_000",
         "user_010",
         "report_download",
         "deduct",
         "15.0",
         "2024-11-29 00:00:00"
        ],
        [
         "130",
         "org_000",
         "user_010",
         "report_download",
         "deduct",
         "61.0",
         "2024-12-01 00:00:00"
        ],
        [
         "430",
         "org_000",
         "user_010",
         "report_download",
         "deduct",
         "85.0",
         "2024-12-02 00:00:00"
        ],
        [
         "310",
         "org_000",
         "user_010",
         "report_download",
         "deduct",
         "89.0",
         "2024-12-02 12:00:00"
        ]
       ],
       "shape": {
        "columns": 6,
        "rows": 948
       }
      },
      "text/html": [
       "<div>\n",
       "<style scoped>\n",
       "    .dataframe tbody tr th:only-of-type {\n",
       "        vertical-align: middle;\n",
       "    }\n",
       "\n",
       "    .dataframe tbody tr th {\n",
       "        vertical-align: top;\n",
       "    }\n",
       "\n",
       "    .dataframe thead th {\n",
       "        text-align: right;\n",
       "    }\n",
       "</style>\n",
       "<table border=\"1\" class=\"dataframe\">\n",
       "  <thead>\n",
       "    <tr style=\"text-align: right;\">\n",
       "      <th></th>\n",
       "      <th>org_id</th>\n",
       "      <th>user_id</th>\n",
       "      <th>credit_type</th>\n",
       "      <th>action</th>\n",
       "      <th>credits</th>\n",
       "      <th>timestamp</th>\n",
       "    </tr>\n",
       "  </thead>\n",
       "  <tbody>\n",
       "    <tr>\n",
       "      <th>121</th>\n",
       "      <td>org_000</td>\n",
       "      <td>user_001</td>\n",
       "      <td>report_download</td>\n",
       "      <td>deduct</td>\n",
       "      <td>58.0</td>\n",
       "      <td>2024-10-03 00:00:00</td>\n",
       "    </tr>\n",
       "    <tr>\n",
       "      <th>141</th>\n",
       "      <td>org_000</td>\n",
       "      <td>user_001</td>\n",
       "      <td>data_export</td>\n",
       "      <td>add</td>\n",
       "      <td>10.0</td>\n",
       "      <td>2024-10-08 12:00:00</td>\n",
       "    </tr>\n",
       "    <tr>\n",
       "      <th>341</th>\n",
       "      <td>org_000</td>\n",
       "      <td>user_001</td>\n",
       "      <td>data_export</td>\n",
       "      <td>add</td>\n",
       "      <td>17.0</td>\n",
       "      <td>2024-10-13 00:00:00</td>\n",
       "    </tr>\n",
       "    <tr>\n",
       "      <th>181</th>\n",
       "      <td>org_000</td>\n",
       "      <td>user_001</td>\n",
       "      <td>api_call</td>\n",
       "      <td>deduct</td>\n",
       "      <td>62.0</td>\n",
       "      <td>2024-10-14 12:00:00</td>\n",
       "    </tr>\n",
       "    <tr>\n",
       "      <th>221</th>\n",
       "      <td>org_000</td>\n",
       "      <td>user_001</td>\n",
       "      <td>report_download</td>\n",
       "      <td>deduct</td>\n",
       "      <td>86.0</td>\n",
       "      <td>2024-10-16 00:00:00</td>\n",
       "    </tr>\n",
       "    <tr>\n",
       "      <th>...</th>\n",
       "      <td>...</td>\n",
       "      <td>...</td>\n",
       "      <td>...</td>\n",
       "      <td>...</td>\n",
       "      <td>...</td>\n",
       "      <td>...</td>\n",
       "    </tr>\n",
       "    <tr>\n",
       "      <th>669</th>\n",
       "      <td>org_009</td>\n",
       "      <td>user_009</td>\n",
       "      <td>api_call</td>\n",
       "      <td>add</td>\n",
       "      <td>88.0</td>\n",
       "      <td>1990-01-01 00:00:00</td>\n",
       "    </tr>\n",
       "    <tr>\n",
       "      <th>709</th>\n",
       "      <td>org_009</td>\n",
       "      <td>user_009</td>\n",
       "      <td>data_export</td>\n",
       "      <td>deduct</td>\n",
       "      <td>20.0</td>\n",
       "      <td>1990-01-01 00:00:00</td>\n",
       "    </tr>\n",
       "    <tr>\n",
       "      <th>749</th>\n",
       "      <td>org_009</td>\n",
       "      <td>user_009</td>\n",
       "      <td>report_download</td>\n",
       "      <td>deduct</td>\n",
       "      <td>63.0</td>\n",
       "      <td>1990-01-01 00:00:00</td>\n",
       "    </tr>\n",
       "    <tr>\n",
       "      <th>769</th>\n",
       "      <td>org_009</td>\n",
       "      <td>user_009</td>\n",
       "      <td>report_download</td>\n",
       "      <td>add</td>\n",
       "      <td>18.0</td>\n",
       "      <td>1990-01-01 00:00:00</td>\n",
       "    </tr>\n",
       "    <tr>\n",
       "      <th>789</th>\n",
       "      <td>org_009</td>\n",
       "      <td>user_009</td>\n",
       "      <td>report_download</td>\n",
       "      <td>add</td>\n",
       "      <td>85.0</td>\n",
       "      <td>1990-01-01 00:00:00</td>\n",
       "    </tr>\n",
       "  </tbody>\n",
       "</table>\n",
       "<p>948 rows × 6 columns</p>\n",
       "</div>"
      ],
      "text/plain": [
       "      org_id   user_id      credit_type  action  credits           timestamp\n",
       "121  org_000  user_001  report_download  deduct     58.0 2024-10-03 00:00:00\n",
       "141  org_000  user_001      data_export     add     10.0 2024-10-08 12:00:00\n",
       "341  org_000  user_001      data_export     add     17.0 2024-10-13 00:00:00\n",
       "181  org_000  user_001         api_call  deduct     62.0 2024-10-14 12:00:00\n",
       "221  org_000  user_001  report_download  deduct     86.0 2024-10-16 00:00:00\n",
       "..       ...       ...              ...     ...      ...                 ...\n",
       "669  org_009  user_009         api_call     add     88.0 1990-01-01 00:00:00\n",
       "709  org_009  user_009      data_export  deduct     20.0 1990-01-01 00:00:00\n",
       "749  org_009  user_009  report_download  deduct     63.0 1990-01-01 00:00:00\n",
       "769  org_009  user_009  report_download     add     18.0 1990-01-01 00:00:00\n",
       "789  org_009  user_009  report_download     add     85.0 1990-01-01 00:00:00\n",
       "\n",
       "[948 rows x 6 columns]"
      ]
     },
     "execution_count": 2,
     "metadata": {},
     "output_type": "execute_result"
    }
   ],
   "source": [
    "df = pd.read_csv('data/test_data.csv')\n",
    "START_DATE = pd.to_datetime('1990-01-01')\n",
    "END_DATE = pd.to_datetime('2050-01-01')\n",
    "\n",
    "STRING_FORMATS = [\n",
    "    '%Y-%m-%d %H:%M:%S',\n",
    "    '%d-%m-%Y',\n",
    "    '%m/%d/%Y %H:%M %p'\n",
    "]\n",
    "\n",
    "def datetime_parser(date_value):\n",
    "    \"\"\"\n",
    "    A single, efficient function to parse a value that could be\n",
    "    a Unix timestamp or one of several string formats.\n",
    "    \"\"\"\n",
    "    numeric_val = pd.to_numeric(date_value, errors='coerce')\n",
    "    if pd.notna(numeric_val):\n",
    "        try:\n",
    "            ts = pd.to_datetime(numeric_val, unit='s')\n",
    "            if START_DATE <= ts <= END_DATE:\n",
    "                return ts\n",
    "        except (ValueError, pd.errors.OutOfBoundsDatetime):\n",
    "            pass\n",
    "\n",
    "    if isinstance(date_value, str):\n",
    "        for fmt in STRING_FORMATS:\n",
    "            try:\n",
    "                return pd.to_datetime(date_value, format=fmt)\n",
    "            except (ValueError, TypeError):\n",
    "                continue\n",
    "\n",
    "    return pd.NaT\n",
    "\n",
    "df['timestamp'] = df['timestamp'].apply(datetime_parser)\n",
    "\n",
    "df = df.sort_values(['user_id', 'timestamp'])\n",
    "\n",
    "df = df.dropna(subset=['org_id', 'user_id'])\n",
    "\n",
    "first_orgs = df.groupby('user_id')['org_id'].transform('first')\n",
    "df = df[df['org_id'] == first_orgs]\n",
    "\n",
    "df['timestamp'] = df['timestamp'].fillna(pd.to_datetime('1990-01-01 00:00:00'))\n",
    "\n",
    "df_timestamps = df['timestamp']\n",
    "\n",
    "df_credits = df['credits']\n",
    "\n",
    "df_string_cols = df.select_dtypes('object')\n",
    "for col in df_string_cols.columns:\n",
    "    df_string_cols[col] = df_string_cols[col].str.strip()\n",
    "    df_string_cols[col] = df_string_cols[col].str.lower()\n",
    "df_string_cols\n",
    "\n",
    "df = pd.concat([df_string_cols, df_credits, df_timestamps], axis=1)\n",
    "\n",
    "df['credits'] = df['credits'].fillna(1.0)\n",
    "\n",
    "df['credit_type'] = df['credit_type'].fillna('default')\n",
    "\n",
    "df.sort_values(['org_id', 'user_id'], inplace=True)\n",
    "\n",
    "df"
   ]
  },
  {
   "cell_type": "code",
   "execution_count": null,
   "id": "053e9d32",
   "metadata": {},
   "outputs": [],
   "source": []
  },
  {
   "cell_type": "code",
   "execution_count": 3,
   "id": "0cbf8fcf",
   "metadata": {},
   "outputs": [],
   "source": [
    "# df['user_id'] = df['user_id'].fillna('user_999')\n",
    "# df"
   ]
  },
  {
   "cell_type": "code",
   "execution_count": 4,
   "id": "253397fd",
   "metadata": {},
   "outputs": [],
   "source": [
    "# df = df.drop_duplicates(subset=['org_id', 'user_id', 'credit_type', 'timestamp'], keep='first')\n",
    "# df"
   ]
  },
  {
   "cell_type": "code",
   "execution_count": 5,
   "id": "53801de6",
   "metadata": {},
   "outputs": [
    {
     "data": {
      "application/vnd.microsoft.datawrangler.viewer.v0+json": {
       "columns": [
        {
         "name": "index",
         "rawType": "int64",
         "type": "integer"
        },
        {
         "name": "org_id",
         "rawType": "object",
         "type": "string"
        },
        {
         "name": "user_id",
         "rawType": "object",
         "type": "string"
        },
        {
         "name": "credit_type",
         "rawType": "object",
         "type": "string"
        },
        {
         "name": "action",
         "rawType": "object",
         "type": "unknown"
        },
        {
         "name": "credits",
         "rawType": "float64",
         "type": "float"
        },
        {
         "name": "timestamp",
         "rawType": "datetime64[ns]",
         "type": "datetime"
        }
       ],
       "ref": "db90ad3b-d0ab-49f8-a218-544e44f716ce",
       "rows": [
        [
         "600",
         "org_001",
         "user_000",
         "default",
         "deduct",
         "82.0",
         "1990-01-01 00:00:00"
        ],
        [
         "700",
         "org_001",
         "user_000",
         "data_export",
         "deduct",
         "35.0",
         "1990-01-01 00:00:00"
        ],
        [
         "740",
         "org_001",
         "user_000",
         "api_call",
         "deduct",
         "31.0",
         "1990-01-01 00:00:00"
        ],
        [
         "760",
         "org_001",
         "user_000",
         "data_export",
         "add",
         "27.0",
         "1990-01-01 00:00:00"
        ],
        [
         "800",
         "org_001",
         "user_000",
         "api_call",
         "add",
         "47.0",
         "1990-01-01 00:00:00"
        ],
        [
         "960",
         "org_001",
         "user_000",
         "data_export",
         "add",
         "43.0",
         "1990-01-01 00:00:00"
        ],
        [
         "980",
         "org_001",
         "user_000",
         "data_export",
         "deduct",
         "57.0",
         "1990-01-01 00:00:00"
        ],
        [
         "500",
         "org_001",
         "user_000",
         "report_download",
         "add",
         "39.0",
         "2024-10-05 00:00:00"
        ],
        [
         "720",
         "org_001",
         "user_000",
         "data_export",
         "deduct",
         "90.0",
         "2024-10-14 00:00:00"
        ],
        [
         "840",
         "org_001",
         "user_000",
         "data_export",
         "deduct",
         "99.0",
         "2024-11-01 00:00:00"
        ],
        [
         "660",
         "org_001",
         "user_000",
         "api_call",
         "deduct",
         "38.0",
         "2024-11-03 00:00:00"
        ],
        [
         "780",
         "org_001",
         "user_000",
         "data_export",
         "add",
         "1.0",
         "2024-11-10 12:00:00"
        ],
        [
         "920",
         "org_001",
         "user_000",
         "data_export",
         "deduct",
         "83.0",
         "2024-11-11 00:00:00"
        ],
        [
         "900",
         "org_001",
         "user_000",
         "api_call",
         "add",
         "33.0",
         "2024-11-18 00:00:00"
        ],
        [
         "580",
         "org_001",
         "user_000",
         "report_download",
         "deduct",
         "93.0",
         "2024-11-20 00:00:00"
        ],
        [
         "560",
         "org_001",
         "user_000",
         "api_call",
         "add",
         "1.0",
         "2024-11-22 00:00:00"
        ],
        [
         "640",
         "org_001",
         "user_000",
         "api_call",
         "deduct",
         "96.0",
         "2024-11-26 00:00:00"
        ],
        [
         "620",
         "org_001",
         "user_000",
         "report_download",
         "deduct",
         "11.0",
         "2024-11-30 00:00:00"
        ],
        [
         "540",
         "org_001",
         "user_000",
         "api_call",
         "deduct",
         "11.0",
         "2024-12-05 12:00:00"
        ],
        [
         "820",
         "org_001",
         "user_000",
         "report_download",
         "deduct",
         "34.0",
         "2024-12-08 00:00:00"
        ],
        [
         "860",
         "org_001",
         "user_000",
         "report_download",
         null,
         "31.0",
         "2024-12-11 00:00:00"
        ],
        [
         "940",
         "org_001",
         "user_000",
         "api_call",
         "deduct",
         "47.0",
         "2024-12-14 12:00:00"
        ],
        [
         "880",
         "org_001",
         "user_000",
         "api_call",
         null,
         "5.0",
         "2024-12-24 00:00:00"
        ],
        [
         "680",
         "org_001",
         "user_000",
         "report_download",
         "deduct",
         "56.0",
         "2024-12-27 12:00:00"
        ],
        [
         "520",
         "org_001",
         "user_000",
         "report_download",
         "deduct",
         "93.0",
         "2024-12-29 12:00:00"
        ],
        [
         "21",
         "org_000",
         "user_001",
         "report_download",
         "add",
         "88.0",
         "1990-01-01 00:00:00"
        ],
        [
         "81",
         "org_000",
         "user_001",
         "report_download",
         "deduct",
         "12.0",
         "1990-01-01 00:00:00"
        ],
        [
         "161",
         "org_000",
         "user_001",
         "data_export",
         "add",
         "37.0",
         "1990-01-01 00:00:00"
        ],
        [
         "461",
         "org_000",
         "user_001",
         "data_export",
         "add",
         "39.0",
         "1990-01-01 00:00:00"
        ],
        [
         "481",
         "org_000",
         "user_001",
         "report_download",
         "deduct",
         "51.0",
         "1990-01-01 00:00:00"
        ],
        [
         "121",
         "org_000",
         "user_001",
         "report_download",
         "deduct",
         "58.0",
         "2024-10-03 00:00:00"
        ],
        [
         "141",
         "org_000",
         "user_001",
         "data_export",
         "add",
         "10.0",
         "2024-10-08 12:00:00"
        ],
        [
         "341",
         "org_000",
         "user_001",
         "data_export",
         "add",
         "17.0",
         "2024-10-13 00:00:00"
        ],
        [
         "181",
         "org_000",
         "user_001",
         "api_call",
         "deduct",
         "62.0",
         "2024-10-14 12:00:00"
        ],
        [
         "221",
         "org_000",
         "user_001",
         "report_download",
         "deduct",
         "86.0",
         "2024-10-16 00:00:00"
        ],
        [
         "61",
         "org_000",
         "user_001",
         "data_export",
         "add",
         "56.0",
         "2024-10-17 00:00:00"
        ],
        [
         "361",
         "org_000",
         "user_001",
         "data_export",
         "deduct",
         "99.0",
         "2024-10-19 00:00:00"
        ],
        [
         "401",
         "org_000",
         "user_001",
         "data_export",
         "add",
         "31.0",
         "2024-10-27 00:00:00"
        ],
        [
         "321",
         "org_000",
         "user_001",
         "report_download",
         "deduct",
         "11.0",
         "2024-11-02 12:00:00"
        ],
        [
         "281",
         "org_000",
         "user_001",
         "data_export",
         "add",
         "100.0",
         "2024-11-06 12:00:00"
        ],
        [
         "381",
         "org_000",
         "user_001",
         "api_call",
         "add",
         "60.0",
         "2024-11-09 12:00:00"
        ],
        [
         "421",
         "org_000",
         "user_001",
         "data_export",
         "add",
         "48.0",
         "2024-11-10 00:00:00"
        ],
        [
         "441",
         "org_000",
         "user_001",
         "report_download",
         "add",
         "23.0",
         "2024-11-10 00:00:00"
        ],
        [
         "241",
         "org_000",
         "user_001",
         "api_call",
         "deduct",
         "89.0",
         "2024-11-16 00:00:00"
        ],
        [
         "101",
         "org_000",
         "user_001",
         "api_call",
         "add",
         "34.0",
         "2024-11-18 00:00:00"
        ],
        [
         "201",
         "org_000",
         "user_001",
         "report_download",
         "deduct",
         "8.0",
         "2024-11-20 00:00:00"
        ],
        [
         "1",
         "org_000",
         "user_001",
         "report_download",
         "add",
         "76.0",
         "2024-11-24 00:00:00"
        ],
        [
         "301",
         "org_000",
         "user_001",
         "api_call",
         "deduct",
         "79.0",
         "2024-11-25 00:00:00"
        ],
        [
         "41",
         "org_000",
         "user_001",
         "api_call",
         "add",
         "53.0",
         "2024-12-02 00:00:00"
        ],
        [
         "261",
         "org_000",
         "user_001",
         "data_export",
         "add",
         "77.0",
         "2024-12-30 00:00:00"
        ]
       ],
       "shape": {
        "columns": 6,
        "rows": 948
       }
      },
      "text/html": [
       "<div>\n",
       "<style scoped>\n",
       "    .dataframe tbody tr th:only-of-type {\n",
       "        vertical-align: middle;\n",
       "    }\n",
       "\n",
       "    .dataframe tbody tr th {\n",
       "        vertical-align: top;\n",
       "    }\n",
       "\n",
       "    .dataframe thead th {\n",
       "        text-align: right;\n",
       "    }\n",
       "</style>\n",
       "<table border=\"1\" class=\"dataframe\">\n",
       "  <thead>\n",
       "    <tr style=\"text-align: right;\">\n",
       "      <th></th>\n",
       "      <th>org_id</th>\n",
       "      <th>user_id</th>\n",
       "      <th>credit_type</th>\n",
       "      <th>action</th>\n",
       "      <th>credits</th>\n",
       "      <th>timestamp</th>\n",
       "    </tr>\n",
       "  </thead>\n",
       "  <tbody>\n",
       "    <tr>\n",
       "      <th>600</th>\n",
       "      <td>org_001</td>\n",
       "      <td>user_000</td>\n",
       "      <td>default</td>\n",
       "      <td>deduct</td>\n",
       "      <td>82.0</td>\n",
       "      <td>1990-01-01 00:00:00</td>\n",
       "    </tr>\n",
       "    <tr>\n",
       "      <th>700</th>\n",
       "      <td>org_001</td>\n",
       "      <td>user_000</td>\n",
       "      <td>data_export</td>\n",
       "      <td>deduct</td>\n",
       "      <td>35.0</td>\n",
       "      <td>1990-01-01 00:00:00</td>\n",
       "    </tr>\n",
       "    <tr>\n",
       "      <th>740</th>\n",
       "      <td>org_001</td>\n",
       "      <td>user_000</td>\n",
       "      <td>api_call</td>\n",
       "      <td>deduct</td>\n",
       "      <td>31.0</td>\n",
       "      <td>1990-01-01 00:00:00</td>\n",
       "    </tr>\n",
       "    <tr>\n",
       "      <th>760</th>\n",
       "      <td>org_001</td>\n",
       "      <td>user_000</td>\n",
       "      <td>data_export</td>\n",
       "      <td>add</td>\n",
       "      <td>27.0</td>\n",
       "      <td>1990-01-01 00:00:00</td>\n",
       "    </tr>\n",
       "    <tr>\n",
       "      <th>800</th>\n",
       "      <td>org_001</td>\n",
       "      <td>user_000</td>\n",
       "      <td>api_call</td>\n",
       "      <td>add</td>\n",
       "      <td>47.0</td>\n",
       "      <td>1990-01-01 00:00:00</td>\n",
       "    </tr>\n",
       "    <tr>\n",
       "      <th>...</th>\n",
       "      <td>...</td>\n",
       "      <td>...</td>\n",
       "      <td>...</td>\n",
       "      <td>...</td>\n",
       "      <td>...</td>\n",
       "      <td>...</td>\n",
       "    </tr>\n",
       "    <tr>\n",
       "      <th>799</th>\n",
       "      <td>org_004</td>\n",
       "      <td>user_019</td>\n",
       "      <td>api_call</td>\n",
       "      <td>add</td>\n",
       "      <td>66.0</td>\n",
       "      <td>2024-12-22 00:00:00</td>\n",
       "    </tr>\n",
       "    <tr>\n",
       "      <th>419</th>\n",
       "      <td>org_004</td>\n",
       "      <td>user_019</td>\n",
       "      <td>data_export</td>\n",
       "      <td>deduct</td>\n",
       "      <td>69.0</td>\n",
       "      <td>2024-12-23 00:00:00</td>\n",
       "    </tr>\n",
       "    <tr>\n",
       "      <th>519</th>\n",
       "      <td>org_004</td>\n",
       "      <td>user_019</td>\n",
       "      <td>api_call</td>\n",
       "      <td>deduct</td>\n",
       "      <td>86.0</td>\n",
       "      <td>2024-12-23 12:00:00</td>\n",
       "    </tr>\n",
       "    <tr>\n",
       "      <th>859</th>\n",
       "      <td>org_004</td>\n",
       "      <td>user_019</td>\n",
       "      <td>report_download</td>\n",
       "      <td>add</td>\n",
       "      <td>74.0</td>\n",
       "      <td>2024-12-27 12:00:00</td>\n",
       "    </tr>\n",
       "    <tr>\n",
       "      <th>959</th>\n",
       "      <td>org_004</td>\n",
       "      <td>user_019</td>\n",
       "      <td>data_export</td>\n",
       "      <td>add</td>\n",
       "      <td>44.0</td>\n",
       "      <td>2024-12-28 00:00:00</td>\n",
       "    </tr>\n",
       "  </tbody>\n",
       "</table>\n",
       "<p>948 rows × 6 columns</p>\n",
       "</div>"
      ],
      "text/plain": [
       "      org_id   user_id      credit_type  action  credits           timestamp\n",
       "600  org_001  user_000          default  deduct     82.0 1990-01-01 00:00:00\n",
       "700  org_001  user_000      data_export  deduct     35.0 1990-01-01 00:00:00\n",
       "740  org_001  user_000         api_call  deduct     31.0 1990-01-01 00:00:00\n",
       "760  org_001  user_000      data_export     add     27.0 1990-01-01 00:00:00\n",
       "800  org_001  user_000         api_call     add     47.0 1990-01-01 00:00:00\n",
       "..       ...       ...              ...     ...      ...                 ...\n",
       "799  org_004  user_019         api_call     add     66.0 2024-12-22 00:00:00\n",
       "419  org_004  user_019      data_export  deduct     69.0 2024-12-23 00:00:00\n",
       "519  org_004  user_019         api_call  deduct     86.0 2024-12-23 12:00:00\n",
       "859  org_004  user_019  report_download     add     74.0 2024-12-27 12:00:00\n",
       "959  org_004  user_019      data_export     add     44.0 2024-12-28 00:00:00\n",
       "\n",
       "[948 rows x 6 columns]"
      ]
     },
     "execution_count": 5,
     "metadata": {},
     "output_type": "execute_result"
    }
   ],
   "source": [
    "df = df.sort_values(['user_id', 'timestamp'])\n",
    "first_orgs = df.groupby('user_id')['org_id'].transform('first')\n",
    "df = df[df['org_id'] == first_orgs]\n",
    "df"
   ]
  },
  {
   "cell_type": "code",
   "execution_count": 6,
   "id": "e37adb01",
   "metadata": {},
   "outputs": [
    {
     "data": {
      "application/vnd.microsoft.datawrangler.viewer.v0+json": {
       "columns": [
        {
         "name": "index",
         "rawType": "object",
         "type": "string"
        },
        {
         "name": "0",
         "rawType": "object",
         "type": "unknown"
        }
       ],
       "ref": "edc07b69-15e1-4457-88e9-979d15df1a3f",
       "rows": [
        [
         "org_id",
         "object"
        ],
        [
         "user_id",
         "object"
        ],
        [
         "credit_type",
         "object"
        ],
        [
         "action",
         "object"
        ],
        [
         "credits",
         "float64"
        ],
        [
         "timestamp",
         "datetime64[ns]"
        ]
       ],
       "shape": {
        "columns": 1,
        "rows": 6
       }
      },
      "text/plain": [
       "org_id                 object\n",
       "user_id                object\n",
       "credit_type            object\n",
       "action                 object\n",
       "credits               float64\n",
       "timestamp      datetime64[ns]\n",
       "dtype: object"
      ]
     },
     "execution_count": 6,
     "metadata": {},
     "output_type": "execute_result"
    }
   ],
   "source": [
    "df.dtypes"
   ]
  },
  {
   "cell_type": "code",
   "execution_count": 13,
   "id": "f57ae40e",
   "metadata": {},
   "outputs": [
    {
     "name": "stdout",
     "output_type": "stream",
     "text": [
      "10\n"
     ]
    },
    {
     "data": {
      "text/plain": [
       "array(['org_001', 'org_000', 'org_002', 'org_003', 'org_004', 'org_005',\n",
       "       'org_006', 'org_007', 'org_008', 'org_009'], dtype=object)"
      ]
     },
     "execution_count": 13,
     "metadata": {},
     "output_type": "execute_result"
    }
   ],
   "source": [
    "print(len(df['org_id'].unique()))\n",
    "df['org_id'].unique()"
   ]
  },
  {
   "cell_type": "code",
   "execution_count": 14,
   "id": "871980f7",
   "metadata": {},
   "outputs": [
    {
     "name": "stdout",
     "output_type": "stream",
     "text": [
      "20\n"
     ]
    },
    {
     "data": {
      "text/plain": [
       "array(['user_000', 'user_001', 'user_002', 'user_003', 'user_004',\n",
       "       'user_005', 'user_006', 'user_007', 'user_008', 'user_009',\n",
       "       'user_010', 'user_011', 'user_012', 'user_013', 'user_014',\n",
       "       'user_015', 'user_016', 'user_017', 'user_018', 'user_019'],\n",
       "      dtype=object)"
      ]
     },
     "execution_count": 14,
     "metadata": {},
     "output_type": "execute_result"
    }
   ],
   "source": [
    "print(len(df['user_id'].unique()))\n",
    "df['user_id'].unique()"
   ]
  },
  {
   "cell_type": "code",
   "execution_count": null,
   "id": "8a4d5813",
   "metadata": {},
   "outputs": [],
   "source": []
  }
 ],
 "metadata": {
  "kernelspec": {
   "display_name": "data-pipeline-test (3.12.3)",
   "language": "python",
   "name": "python3"
  },
  "language_info": {
   "codemirror_mode": {
    "name": "ipython",
    "version": 3
   },
   "file_extension": ".py",
   "mimetype": "text/x-python",
   "name": "python",
   "nbconvert_exporter": "python",
   "pygments_lexer": "ipython3",
   "version": "3.12.3"
  }
 },
 "nbformat": 4,
 "nbformat_minor": 5
}
